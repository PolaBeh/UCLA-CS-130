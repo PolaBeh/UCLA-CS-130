{
 "cells": [
  {
   "cell_type": "code",
   "execution_count": 1,
   "metadata": {},
   "outputs": [],
   "source": [
    "import pandas as pd\n",
    "import numpy as np\n",
    "import re"
   ]
  },
  {
   "cell_type": "code",
   "execution_count": 2,
   "metadata": {},
   "outputs": [],
   "source": [
    "t = pd.read_csv(\"./test.csv\")\n",
    "t=t.dropna()"
   ]
  },
  {
   "cell_type": "code",
   "execution_count": 3,
   "metadata": {},
   "outputs": [
    {
     "name": "stdout",
     "output_type": "stream",
     "text": [
      "set(['datastructures', 'bruteforce', '2-sat', 'dfsandsimilar', 'constructivealgorithms', 'graphmatchings', 'stringsuffixstructures', 'binarysearch', 'implementation', 'schedules', 'dsu', 'expressionparsing', 'math', 'probabilities', 'meet-in-the-middle', 'ternarysearch', 'combinatorics', 'trees', 'greedy', 'sortings', 'flows', 'matrices', 'dp', 'hashing', 'fft', 'twopointers', 'bitmasks', 'geometry', 'numbertheory', 'shortestpaths', 'graphs', '*specialproblem', 'games', 'divideandconquer', 'chineseremaindertheorem', 'strings'])\n"
     ]
    }
   ],
   "source": [
    "labels = t['labels']\n",
    "\n",
    "def string_to_vector(s):\n",
    "    try:\n",
    "        cleaned_s = re.sub(\"[\\ ]\", '', s)\n",
    "    except:\n",
    "        return []\n",
    "    return cleaned_s.split(\",\")\n",
    "\n",
    "labels = list(map(string_to_vector, labels))\n",
    "\n",
    "l = [item for sublist in labels for item in sublist]\n",
    "print set(l)\n",
    "\n"
   ]
  },
  {
   "cell_type": "code",
   "execution_count": null,
   "metadata": {},
   "outputs": [],
   "source": [
    "for i in set(l):\n",
    "    try:\n",
    "        a = t['labels'].str.contains(i)*1\n",
    "        a = a.loc[a == 1.0]\n",
    "        print i\n",
    "        print len(a)\n",
    "    except:\n",
    "        continue\n"
   ]
  },
  {
   "cell_type": "code",
   "execution_count": null,
   "metadata": {},
   "outputs": [],
   "source": [
    "t['labels'] = t['labels'].apply(lambda x : x+',graphs' if str(x).find('dsu')>0 and str(x).find('graph') == 0 else x)\n",
    "\n",
    "t['labels'] = t['labels'].apply(lambda x : x+',graphs' if str(x).find('trees')>0 and str(x).find('graph') == 0 else x)\n",
    "\n",
    "t['labels'] = t['labels'].apply(lambda x : x+',graphs' if str(x).find('dfs')>0 and str(x).find('graph') == 0 else x)\n",
    "\n",
    "t['labels'] = t['labels'].apply(lambda x : x+',graphs' if str(x).find('shortestpaths')>0 and str(x).find('graph') == 0 else x)"
   ]
  },
  {
   "cell_type": "code",
   "execution_count": null,
   "metadata": {},
   "outputs": [],
   "source": [
    "t['labels'] = t['labels'].apply(lambda x : x+',math' if str(x).find('geometry')>0 and str(x).find('math') == 0 else x)\n",
    "\n",
    "t['labels'] = t['labels'].apply(lambda x : x+',math' if str(x).find('probabilities')>0 and str(x).find('math') == 0 else x)\n",
    "\n",
    "t['labels'] = t['labels'].apply(lambda x : x+',math' if str(x).find('numberthoery')>0 and str(x).find('math') == 0 else x)\n",
    "\n",
    "t['labels'] = t['labels'].apply(lambda x : x+',math' if str(x).find('combinatorics')>0 and str(x).find('math') == 0 else x)\n",
    "\n",
    "t['labels'] = t['labels'].apply(lambda x : x+',math' if str(x).find('matrices')>0 and str(x).find('math') == 0 else x)\n",
    "\n",
    "t['labels'] = t['labels'].apply(lambda x : x+',math' if str(x).find('chineseremaindertheorem')>0 and str(x).find('math') == 0 else x)\n",
    "\n",
    "t['labels'] = t['labels'].apply(lambda x : x+',math' if str(x).find('fft')>0 and str(x).find('math') == 0 else x)"
   ]
  },
  {
   "cell_type": "code",
   "execution_count": null,
   "metadata": {},
   "outputs": [],
   "source": [
    "t['labels'] = t['labels'].apply(lambda x : x+',string' if str(x).find('expressionparsing')>0 and str(x).find('string') == 0 else x)\n",
    "t['labels'] = t['labels'].apply(lambda x : x+',string' if str(x).find('stringsuffixstructures')>0 and str(x).find('string') == 0 else x)\n",
    "\n"
   ]
  },
  {
   "cell_type": "code",
   "execution_count": null,
   "metadata": {},
   "outputs": [],
   "source": [
    "t.to_csv(\"data.csv\")"
   ]
  }
 ],
 "metadata": {
  "kernelspec": {
   "display_name": "Python 2",
   "language": "python",
   "name": "python2"
  },
  "language_info": {
   "codemirror_mode": {
    "name": "ipython",
    "version": 2
   },
   "file_extension": ".py",
   "mimetype": "text/x-python",
   "name": "python",
   "nbconvert_exporter": "python",
   "pygments_lexer": "ipython2",
   "version": "2.7.12"
  }
 },
 "nbformat": 4,
 "nbformat_minor": 2
}
