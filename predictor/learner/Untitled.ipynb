{
 "cells": [
  {
   "cell_type": "code",
   "execution_count": 1,
   "metadata": {},
   "outputs": [],
   "source": [
    "import sys\n",
    "import pandas as pd\n",
    "import numpy as np\n",
    "import re\n",
    "from sklearn import linear_model\n",
    "from sklearn.feature_extraction.text import TfidfTransformer\n",
    "from sklearn.feature_extraction.text import CountVectorizer\n",
    "from sklearn.feature_extraction.text import TfidfVectorizer\n",
    "from sklearn.model_selection import cross_val_score\n",
    "from sklearn.metrics import classification_report\n",
    "from sklearn.model_selection import train_test_split\n",
    "\n",
    "from sklearn.svm import SVC\n",
    "from sklearn.svm import LinearSVC\n",
    "from sklearn import svm\n",
    "\n",
    "from sklearn.neural_network import MLPClassifier\n",
    "from sklearn.ensemble import RandomForestClassifier\n",
    "from sklearn.ensemble import AdaBoostClassifier\n",
    "\n",
    "\n",
    "\n",
    "from sklearn.pipeline import Pipeline\n",
    "from sklearn.model_selection import GridSearchCV\n",
    "\n",
    "from sklearn.naive_bayes import GaussianNB\n",
    "\n",
    "import nltk\n",
    "from nltk import word_tokenize          \n",
    "from nltk.stem.porter import PorterStemmer\n",
    "\n",
    "from sklearn.model_selection import GridSearchCV\n",
    "\n"
   ]
  },
  {
   "cell_type": "code",
   "execution_count": 2,
   "metadata": {},
   "outputs": [],
   "source": [
    "t = pd.read_csv(\"./reports/data.csv\")\n",
    "t = t.dropna()"
   ]
  },
  {
   "cell_type": "code",
   "execution_count": 3,
   "metadata": {},
   "outputs": [],
   "source": [
    "__type = \"math\"#sys.argv[1]\n",
    "t[__type] =  t[\"labels\"].str.contains(__type)\n",
    "t[__type] = pd.to_numeric(t[__type], downcast=\"signed\")"
   ]
  },
  {
   "cell_type": "code",
   "execution_count": 4,
   "metadata": {},
   "outputs": [],
   "source": [
    "vectorizer = TfidfVectorizer( stop_words=\"english\",analyzer = 'word')\n",
    "feature = \"problem-statement\"\n",
    "\n",
    "l = t['ps'] = (t['problem-statement'].astype(str) + t['output-spec']) .tolist()\n",
    "res = []\n",
    "regex = re.compile(\"^a-zA-Z0-9\\ '\" )\n",
    "def clean_s(input_str):\n",
    "    return regex.sub(' ', input_str)\n",
    "\n",
    "for i in range(len(l)):\n",
    "    try:\n",
    "        res.append(clean_s(l[i]))\n",
    "    except:\n",
    "        res.append(\"\")\n",
    "\n",
    "X = vectorizer.fit_transform(res)\n",
    "t['tf-idf'] = list(X.toarray())\n"
   ]
  },
  {
   "cell_type": "code",
   "execution_count": 5,
   "metadata": {},
   "outputs": [],
   "source": [
    "\n",
    "output = t[[__type,'tf-idf','ps' ]]\n",
    "output = output.dropna()\n",
    "\n",
    "output[__type] = output[__type].astype(int)\n",
    "\n",
    "a = output.loc[output[__type] == 1.0]\n",
    "b = output.loc[output[__type] == 0.0]\n",
    "b = b.sample(n=len(a), random_state = 42)"
   ]
  },
  {
   "cell_type": "code",
   "execution_count": 6,
   "metadata": {},
   "outputs": [],
   "source": [
    "output = a.append(b)\n"
   ]
  },
  {
   "cell_type": "code",
   "execution_count": 7,
   "metadata": {},
   "outputs": [],
   "source": [
    "x_train, x_test, y_train, y_test = train_test_split(np.array(output['tf-idf'].tolist() ),output[__type], test_size=0.2,random_state=42)"
   ]
  },
  {
   "cell_type": "code",
   "execution_count": null,
   "metadata": {
    "scrolled": true
   },
   "outputs": [],
   "source": []
  },
  {
   "cell_type": "code",
   "execution_count": 8,
   "metadata": {},
   "outputs": [],
   "source": [
    "#model = linear_model.RidgeCV(alphas = [0.1, 1.0, 10])\n",
    "#parameters = {}\n",
    "#model = linear_model.Lasso(alpha=0.0001)\n",
    "#model = linear_model.SGDClassifier(loss = 'hinge', penalty='l2')\n",
    "#parameters = {'max_iter': [100,1000]}\n",
    "#model = GaussianNB()\n",
    "#parameters={}\n",
    "### -->logistic regression\n",
    "#model = linear_model.LogisticRegression()\n",
    "#parameters = {'C':[0.1, 1, 10,100], 'max_iter': [100,1000]}\n",
    "\n",
    "### -> logistic regression\n",
    "#model = LinearSVC()\n",
    "#model = MLPClassifier(solver='lbfgs',  hidden_layer_sizes= (100,100,100), random_state=1)\n",
    "#parameters={}\n",
    "#parameters = {'C':[ 0.1, 1, 10,100]}\n",
    "## --> randomforest\n",
    "#model = RandomForestClassifier(class_weight = 'balanced')\n",
    "#parameters={}\n",
    "### --> random forest\n",
    "\n",
    "\n",
    "#model = AdaBoostClassifier()\n",
    "#parameters= {'n_estimators': (10,30,60,90)}\n",
    "#### ---> SVC\n",
    "#model = svm.SVC(kernel='linear')\n",
    "#parameters = {'C':[1, 10]}\n",
    "### ---> SVC \n",
    "#clf = GridSearchCV(model, parameters, n_jobs=4,verbose = 10)\n",
    "#clf.fit(x_train, y_train)\n",
    "#y_pred = clf.predict(x_test)\n",
    "#y_pred = np.round(clf.predict(x_test))\n",
    "#print(classification_report(y_test, y_pred))"
   ]
  },
  {
   "cell_type": "code",
   "execution_count": 9,
   "metadata": {},
   "outputs": [],
   "source": [
    "#y_pred = clf.predict(x_test)"
   ]
  },
  {
   "cell_type": "code",
   "execution_count": 10,
   "metadata": {},
   "outputs": [
    {
     "name": "stdout",
     "output_type": "stream",
     "text": [
      "             precision    recall  f1-score   support\n",
      "\n",
      "          0       0.70      0.66      0.68       163\n",
      "          1       0.65      0.68      0.66       148\n",
      "\n",
      "avg / total       0.67      0.67      0.67       311\n",
      "\n"
     ]
    }
   ],
   "source": [
    "from sklearn.externals import joblib\n",
    "clf2 = joblib.load('math.dump')\n",
    "print(classification_report(clf2.predict(x_test), y_test ))"
   ]
  },
  {
   "cell_type": "code",
   "execution_count": 11,
   "metadata": {},
   "outputs": [],
   "source": [
    "#f = open(\"datastructure.dump\", \"w)\n",
    "#joblib.dump(clf, 'strings.dump') "
   ]
  },
  {
   "cell_type": "code",
   "execution_count": null,
   "metadata": {},
   "outputs": [],
   "source": []
  }
 ],
 "metadata": {
  "kernelspec": {
   "display_name": "Python 2",
   "language": "python",
   "name": "python2"
  },
  "language_info": {
   "codemirror_mode": {
    "name": "ipython",
    "version": 2
   },
   "file_extension": ".py",
   "mimetype": "text/x-python",
   "name": "python",
   "nbconvert_exporter": "python",
   "pygments_lexer": "ipython2",
   "version": "2.7.14"
  }
 },
 "nbformat": 4,
 "nbformat_minor": 2
}
