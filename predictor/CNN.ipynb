{
 "cells": [
  {
   "cell_type": "code",
   "execution_count": 1,
   "metadata": {},
   "outputs": [],
   "source": [
    "import sys\n",
    "import pandas as pd\n",
    "import numpy as np\n",
    "import re\n",
    "from sklearn import linear_model\n",
    "from sklearn.feature_extraction.text import TfidfTransformer\n",
    "from sklearn.feature_extraction.text import CountVectorizer\n",
    "from sklearn.feature_extraction.text import TfidfVectorizer\n",
    "from sklearn.model_selection import cross_val_score\n",
    "from sklearn.metrics import classification_report\n",
    "from sklearn.model_selection import train_test_split\n",
    "\n",
    "from sklearn.svm import SVC\n",
    "from sklearn.svm import LinearSVC\n",
    "from sklearn import svm\n",
    "\n",
    "from sklearn.neural_network import MLPClassifier\n",
    "from sklearn.ensemble import RandomForestClassifier\n",
    "from sklearn.ensemble import AdaBoostClassifier\n",
    "\n",
    "\n",
    "\n",
    "from sklearn.pipeline import Pipeline\n",
    "from sklearn.model_selection import GridSearchCV\n",
    "\n",
    "from sklearn.naive_bayes import GaussianNB\n",
    "\n",
    "import nltk\n",
    "from nltk import word_tokenize          \n",
    "from nltk.stem.porter import PorterStemmer\n",
    "\n",
    "from sklearn.model_selection import GridSearchCV\n",
    "\n"
   ]
  },
  {
   "cell_type": "code",
   "execution_count": 2,
   "metadata": {},
   "outputs": [],
   "source": [
    "t = pd.read_csv(\"./reports/data.csv\")\n",
    "t = t.dropna()"
   ]
  },
  {
   "cell_type": "code",
   "execution_count": 3,
   "metadata": {},
   "outputs": [],
   "source": [
    "__type = \"search\"#sys.argv[1]\n",
    "t[__type] =  t[\"labels\"].str.contains(__type)\n",
    "t[__type] = pd.to_numeric(t[__type], downcast=\"signed\")"
   ]
  },
  {
   "cell_type": "code",
   "execution_count": 4,
   "metadata": {},
   "outputs": [],
   "source": [
    "\n",
    "l =t['ps']= (t['problem-statement'].astype(str) +t['output-spec']) .tolist()\n",
    "res1=[]\n",
    "regex = re.compile(\"^a-zA-Z0-9\\ '\" )\n",
    "def clean_s(input_str):\n",
    "    return regex.sub(' ', input_str)\n",
    "\n",
    "for i in range(len(l)):\n",
    "    try:\n",
    "        res1.append(clean_s(l[i]))\n",
    "    except:\n",
    "        res1.append(\"\")"
   ]
  },
  {
   "cell_type": "code",
   "execution_count": null,
   "metadata": {},
   "outputs": [],
   "source": []
  },
  {
   "cell_type": "code",
   "execution_count": 5,
   "metadata": {},
   "outputs": [],
   "source": [
    "output = t[[__type,'ps']]\n",
    "output = output.dropna()\n",
    "\n",
    "output[__type] = output[__type].astype(int)\n",
    "\n",
    "a = output.loc[output[__type] == 1.0]\n",
    "b = output.loc[output[__type] == 0.0]\n",
    "b = b.sample(n=len(a), random_state = 42)\n",
    "output = a.append(b)"
   ]
  },
  {
   "cell_type": "code",
   "execution_count": null,
   "metadata": {},
   "outputs": [],
   "source": [
    "\n"
   ]
  },
  {
   "cell_type": "code",
   "execution_count": 6,
   "metadata": {},
   "outputs": [
    {
     "name": "stderr",
     "output_type": "stream",
     "text": [
      "/home/nikepupu/.local/lib/python2.7/site-packages/h5py/__init__.py:36: FutureWarning: Conversion of the second argument of issubdtype from `float` to `np.floating` is deprecated. In future, it will be treated as `np.float64 == np.dtype(float).type`.\n",
      "  from ._conv import register_converters as _register_converters\n",
      "Using TensorFlow backend.\n"
     ]
    }
   ],
   "source": [
    "from __future__ import print_function\n",
    "from keras.preprocessing import sequence\n",
    "from keras.models import Sequential\n",
    "from keras.layers import Dense, Dropout, Activation\n",
    "from keras.layers import Embedding\n",
    "from keras.layers import Conv1D, GlobalMaxPooling1D\n",
    "from keras.layers import LSTM\n",
    "from keras.preprocessing.text import text_to_word_sequence\n",
    "from keras.preprocessing.text import hashing_trick\n",
    "\n",
    "from keras.preprocessing.text import Tokenizer\n",
    "from keras.preprocessing import sequence\n",
    "from keras.models import Sequential\n",
    "from keras.layers import Dense, Dropout, Activation\n",
    "from keras.layers import Embedding\n",
    "from keras.layers import Conv1D, GlobalMaxPooling1D, MaxPooling1D\n",
    "from keras.optimizers import Adam\n",
    "\n",
    "max_features = 20000\n",
    "batch_size = 32\n",
    "embedding_dims = 500\n",
    "filters = 250\n",
    "kernel_size = 3\n",
    "hidden_dims = 2500\n",
    "epochs = 2\n",
    "maxlen = 5000\n",
    "\n",
    "temp =  [hashing_trick(a, max_features) for a in output['ps'].tolist()]\n",
    "\n",
    "temp= sequence.pad_sequences(temp, maxlen=maxlen);\n",
    "#pad2= sequence.pad_sequences(temp2);\n",
    "#temp = np.concatenate((sequence.pad_sequences(temp1), sequence.pad_sequences(temp2)), axis = 1) #np.concatenate((a, b.T), axis=1)\n",
    "x_train, x_test, y_train, y_test = train_test_split(temp,output[__type], test_size=0.2,random_state=42)\n"
   ]
  },
  {
   "cell_type": "code",
   "execution_count": 7,
   "metadata": {},
   "outputs": [
    {
     "name": "stdout",
     "output_type": "stream",
     "text": [
      "(814, 5000)\n"
     ]
    }
   ],
   "source": [
    "print(temp.shape)"
   ]
  },
  {
   "cell_type": "code",
   "execution_count": 8,
   "metadata": {},
   "outputs": [
    {
     "name": "stdout",
     "output_type": "stream",
     "text": [
      "Build model...\n",
      "WARNING:tensorflow:From /home/nikepupu/anaconda3/envs/py27/lib/python2.7/site-packages/tensorflow/python/util/deprecation.py:497: calling conv1d (from tensorflow.python.ops.nn_ops) with data_format=NHWC is deprecated and will be removed in a future version.\n",
      "Instructions for updating:\n",
      "`NHWC` for data_format is deprecated, use `NWC` instead\n",
      "Train on 651 samples, validate on 163 samples\n",
      "Epoch 1/20\n",
      "651/651 [==============================] - 4s 7ms/step - loss: 0.6976 - acc: 0.5146 - val_loss: 0.7109 - val_acc: 0.4601\n",
      "Epoch 2/20\n",
      "651/651 [==============================] - 3s 4ms/step - loss: 0.6943 - acc: 0.4992 - val_loss: 0.6932 - val_acc: 0.4479\n",
      "Epoch 3/20\n",
      "651/651 [==============================] - 3s 4ms/step - loss: 0.6967 - acc: 0.4916 - val_loss: 0.6923 - val_acc: 0.5276\n",
      "Epoch 4/20\n",
      "651/651 [==============================] - 3s 4ms/step - loss: 0.6851 - acc: 0.5530 - val_loss: 0.6950 - val_acc: 0.4479\n",
      "Epoch 5/20\n",
      "651/651 [==============================] - 3s 4ms/step - loss: 0.6625 - acc: 0.5837 - val_loss: 0.6820 - val_acc: 0.5828\n",
      "Epoch 6/20\n",
      "651/651 [==============================] - 3s 4ms/step - loss: 0.6240 - acc: 0.6406 - val_loss: 0.7146 - val_acc: 0.5706\n",
      "Epoch 7/20\n",
      "651/651 [==============================] - 3s 4ms/step - loss: 0.5549 - acc: 0.7327 - val_loss: 0.6818 - val_acc: 0.5951\n",
      "Epoch 8/20\n",
      "651/651 [==============================] - 3s 4ms/step - loss: 0.4105 - acc: 0.8326 - val_loss: 0.7194 - val_acc: 0.5951\n",
      "Epoch 9/20\n",
      "651/651 [==============================] - 3s 4ms/step - loss: 0.2966 - acc: 0.8894 - val_loss: 0.8193 - val_acc: 0.6442\n",
      "Epoch 10/20\n",
      "651/651 [==============================] - 3s 4ms/step - loss: 0.1844 - acc: 0.9278 - val_loss: 0.9320 - val_acc: 0.6564\n",
      "Epoch 11/20\n",
      "651/651 [==============================] - 3s 4ms/step - loss: 0.1159 - acc: 0.9647 - val_loss: 1.1150 - val_acc: 0.6012\n",
      "Epoch 12/20\n",
      "651/651 [==============================] - 3s 4ms/step - loss: 0.0828 - acc: 0.9647 - val_loss: 1.3190 - val_acc: 0.6258\n",
      "Epoch 13/20\n",
      "651/651 [==============================] - 3s 4ms/step - loss: 0.0644 - acc: 0.9770 - val_loss: 1.4321 - val_acc: 0.6135\n",
      "Epoch 14/20\n",
      "651/651 [==============================] - 3s 4ms/step - loss: 0.0406 - acc: 0.9892 - val_loss: 1.5310 - val_acc: 0.6258\n",
      "Epoch 15/20\n",
      "651/651 [==============================] - 3s 4ms/step - loss: 0.0595 - acc: 0.9770 - val_loss: 1.6439 - val_acc: 0.6196\n",
      "Epoch 16/20\n",
      "651/651 [==============================] - 3s 4ms/step - loss: 0.0520 - acc: 0.9816 - val_loss: 1.6804 - val_acc: 0.6442\n",
      "Epoch 17/20\n",
      "651/651 [==============================] - 3s 4ms/step - loss: 0.0572 - acc: 0.9800 - val_loss: 1.7323 - val_acc: 0.6319\n",
      "Epoch 18/20\n",
      "651/651 [==============================] - 3s 4ms/step - loss: 0.0449 - acc: 0.9877 - val_loss: 1.6403 - val_acc: 0.6380\n",
      "Epoch 19/20\n",
      "651/651 [==============================] - 3s 4ms/step - loss: 0.0524 - acc: 0.9800 - val_loss: 1.7417 - val_acc: 0.6258\n",
      "Epoch 20/20\n",
      "651/651 [==============================] - 3s 4ms/step - loss: 0.0420 - acc: 0.9816 - val_loss: 1.7414 - val_acc: 0.6319\n",
      "             precision    recall  f1-score   support\n",
      "\n",
      "          0       0.66      0.65      0.66        88\n",
      "          1       0.60      0.61      0.61        75\n",
      "\n",
      "avg / total       0.63      0.63      0.63       163\n",
      "\n"
     ]
    }
   ],
   "source": [
    "print('Build model...')\n",
    "model = Sequential()\n",
    "\n",
    "# we start off with an efficient embedding layer which maps\n",
    "# our vocab indices into embedding_dims dimensions\n",
    "\n",
    "\n",
    "model.add(Embedding(maxlen, 128))\n",
    "model.add(Dropout(0.5))\n",
    "\n",
    "# we add a Convolution1D, which will learn filters\n",
    "# word group filters of size filter_length:\n",
    "model.add(Conv1D(filters,\n",
    "                 kernel_size,\n",
    "                 padding='valid',\n",
    "                 activation='relu',\n",
    "                 strides=1))\n",
    "# we use max pooling:\n",
    "model.add(GlobalMaxPooling1D())\n",
    "\n",
    "\n",
    "\n",
    "# We add a vanilla hidden layer:\n",
    "model.add(Dense(hidden_dims))\n",
    "model.add(Dropout(0.5))\n",
    "model.add(Activation('relu'))\n",
    "\n",
    "# We project onto a single unit output layer, and squash it with a sigmoid:\n",
    "model.add(Dense(1))\n",
    "model.add(Activation('sigmoid'))\n",
    "\n",
    "model.compile(loss='binary_crossentropy',\n",
    "              optimizer='adam',\n",
    "              metrics=['accuracy'])\n",
    "model.fit(x_train, y_train,\n",
    "          batch_size=batch_size,\n",
    "          epochs=20,\n",
    "validation_data=(x_test, y_test))\n",
    "\n",
    "y_pred = model.predict(x_test)\n",
    "y_pred = [round(value) for value in y_pred]\n",
    "print(classification_report(y_test, y_pred))"
   ]
  },
  {
   "cell_type": "code",
   "execution_count": 9,
   "metadata": {},
   "outputs": [],
   "source": [
    "#greedy\n",
    "model.save('keras_search_classifier.h5')"
   ]
  },
  {
   "cell_type": "code",
   "execution_count": null,
   "metadata": {},
   "outputs": [],
   "source": []
  },
  {
   "cell_type": "code",
   "execution_count": null,
   "metadata": {},
   "outputs": [],
   "source": []
  },
  {
   "cell_type": "code",
   "execution_count": null,
   "metadata": {},
   "outputs": [],
   "source": []
  }
 ],
 "metadata": {
  "kernelspec": {
   "display_name": "Python 2",
   "language": "python",
   "name": "python2"
  },
  "language_info": {
   "codemirror_mode": {
    "name": "ipython",
    "version": 2
   },
   "file_extension": ".py",
   "mimetype": "text/x-python",
   "name": "python",
   "nbconvert_exporter": "python",
   "pygments_lexer": "ipython2",
   "version": "2.7.14"
  }
 },
 "nbformat": 4,
 "nbformat_minor": 2
}
