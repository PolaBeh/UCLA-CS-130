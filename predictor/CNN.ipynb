{
 "cells": [
  {
   "cell_type": "code",
   "execution_count": 1,
   "metadata": {},
   "outputs": [],
   "source": [
    "import sys\n",
    "import pandas as pd\n",
    "import numpy as np\n",
    "import re\n",
    "from sklearn import linear_model\n",
    "from sklearn.feature_extraction.text import TfidfTransformer\n",
    "from sklearn.feature_extraction.text import CountVectorizer\n",
    "from sklearn.feature_extraction.text import TfidfVectorizer\n",
    "from sklearn.model_selection import cross_val_score\n",
    "from sklearn.metrics import classification_report\n",
    "from sklearn.model_selection import train_test_split\n",
    "\n",
    "from sklearn.svm import SVC\n",
    "from sklearn.svm import LinearSVC\n",
    "from sklearn import svm\n",
    "\n",
    "from sklearn.neural_network import MLPClassifier\n",
    "from sklearn.ensemble import RandomForestClassifier\n",
    "from sklearn.ensemble import AdaBoostClassifier\n",
    "\n",
    "\n",
    "\n",
    "from sklearn.pipeline import Pipeline\n",
    "from sklearn.model_selection import GridSearchCV\n",
    "\n",
    "from sklearn.naive_bayes import GaussianNB\n",
    "\n",
    "import nltk\n",
    "from nltk import word_tokenize          \n",
    "from nltk.stem.porter import PorterStemmer\n",
    "\n",
    "from sklearn.model_selection import GridSearchCV\n",
    "\n"
   ]
  },
  {
   "cell_type": "code",
   "execution_count": 2,
   "metadata": {},
   "outputs": [],
   "source": [
    "t = pd.read_csv(\"./reports/data.csv\")\n",
    "t = t.dropna()"
   ]
  },
  {
   "cell_type": "code",
   "execution_count": 3,
   "metadata": {},
   "outputs": [],
   "source": [
    "__type = \"combinatorics\"#sys.argv[1]\n",
    "t[__type] =  t[\"labels\"].str.contains(__type)\n",
    "t[__type] = pd.to_numeric(t[__type], downcast=\"signed\")"
   ]
  },
  {
   "cell_type": "code",
   "execution_count": 4,
   "metadata": {},
   "outputs": [],
   "source": [
    "\n",
    "l =t['ps']= (t['problem-statement'].astype(str) +t['output-spec']) .tolist()\n",
    "res1=[]\n",
    "regex = re.compile(\"^a-zA-Z0-9\\ '\" )\n",
    "def clean_s(input_str):\n",
    "    return regex.sub(' ', input_str)\n",
    "\n",
    "for i in range(len(l)):\n",
    "    try:\n",
    "        res1.append(clean_s(l[i]))\n",
    "    except:\n",
    "        res1.append(\"\")"
   ]
  },
  {
   "cell_type": "code",
   "execution_count": null,
   "metadata": {},
   "outputs": [],
   "source": []
  },
  {
   "cell_type": "code",
   "execution_count": 5,
   "metadata": {},
   "outputs": [],
   "source": [
    "output = t[[__type,'ps']]\n",
    "output = output.dropna()\n",
    "\n",
    "output[__type] = output[__type].astype(int)\n",
    "\n",
    "a = output.loc[output[__type] == 1.0]\n",
    "b = output.loc[output[__type] == 0.0]\n",
    "b = b.sample(n=len(a), random_state = 42)\n",
    "output = a.append(b)"
   ]
  },
  {
   "cell_type": "code",
   "execution_count": null,
   "metadata": {},
   "outputs": [],
   "source": [
    "\n"
   ]
  },
  {
   "cell_type": "code",
   "execution_count": 6,
   "metadata": {},
   "outputs": [
    {
     "name": "stderr",
     "output_type": "stream",
     "text": [
      "/home/nikepupu/.local/lib/python2.7/site-packages/h5py/__init__.py:36: FutureWarning: Conversion of the second argument of issubdtype from `float` to `np.floating` is deprecated. In future, it will be treated as `np.float64 == np.dtype(float).type`.\n",
      "  from ._conv import register_converters as _register_converters\n",
      "Using TensorFlow backend.\n"
     ]
    }
   ],
   "source": [
    "from __future__ import print_function\n",
    "from keras.preprocessing import sequence\n",
    "from keras.models import Sequential\n",
    "from keras.layers import Dense, Dropout, Activation\n",
    "from keras.layers import Embedding\n",
    "from keras.layers import Conv1D, GlobalMaxPooling1D\n",
    "from keras.layers import LSTM\n",
    "from keras.preprocessing.text import text_to_word_sequence\n",
    "from keras.preprocessing.text import hashing_trick\n",
    "\n",
    "from keras.preprocessing.text import Tokenizer\n",
    "from keras.preprocessing import sequence\n",
    "from keras.models import Sequential\n",
    "from keras.layers import Dense, Dropout, Activation\n",
    "from keras.layers import Embedding\n",
    "from keras.layers import Conv1D, GlobalMaxPooling1D, MaxPooling1D\n",
    "from keras.optimizers import Adam\n",
    "\n",
    "max_features = 20000\n",
    "batch_size = 32\n",
    "embedding_dims = 500\n",
    "filters = 250\n",
    "kernel_size = 3\n",
    "hidden_dims = 2500\n",
    "epochs = 2\n",
    "maxlen = 5000\n",
    "\n",
    "temp =  [hashing_trick(a, max_features) for a in output['ps'].tolist()]\n",
    "\n",
    "temp= sequence.pad_sequences(temp, maxlen=maxlen);\n",
    "#pad2= sequence.pad_sequences(temp2);\n",
    "#temp = np.concatenate((sequence.pad_sequences(temp1), sequence.pad_sequences(temp2)), axis = 1) #np.concatenate((a, b.T), axis=1)\n",
    "x_train, x_test, y_train, y_test = train_test_split(temp,output[__type], test_size=0.2,random_state=42)\n"
   ]
  },
  {
   "cell_type": "code",
   "execution_count": 7,
   "metadata": {},
   "outputs": [
    {
     "name": "stdout",
     "output_type": "stream",
     "text": [
      "(814, 5000)\n"
     ]
    }
   ],
   "source": [
    "print(temp.shape)"
   ]
  },
  {
   "cell_type": "code",
   "execution_count": 8,
   "metadata": {},
   "outputs": [
    {
     "name": "stdout",
     "output_type": "stream",
     "text": [
      "Build model...\n",
      "WARNING:tensorflow:From /home/nikepupu/anaconda3/envs/py27/lib/python2.7/site-packages/tensorflow/python/util/deprecation.py:497: calling conv1d (from tensorflow.python.ops.nn_ops) with data_format=NHWC is deprecated and will be removed in a future version.\n",
      "Instructions for updating:\n",
      "`NHWC` for data_format is deprecated, use `NWC` instead\n",
      "Train on 651 samples, validate on 163 samples\n",
      "Epoch 1/20\n",
      "651/651 [==============================] - 4s 7ms/step - loss: 0.7027 - acc: 0.4962 - val_loss: 0.6923 - val_acc: 0.5399\n",
      "Epoch 2/20\n",
      "651/651 [==============================] - 3s 4ms/step - loss: 0.6961 - acc: 0.4931 - val_loss: 0.6985 - val_acc: 0.4601\n",
      "Epoch 3/20\n",
      "651/651 [==============================] - 3s 4ms/step - loss: 0.6954 - acc: 0.4992 - val_loss: 0.6989 - val_acc: 0.4601\n",
      "Epoch 4/20\n",
      "651/651 [==============================] - 3s 4ms/step - loss: 0.6945 - acc: 0.5192 - val_loss: 0.6873 - val_acc: 0.5399\n",
      "Epoch 5/20\n",
      "651/651 [==============================] - 3s 4ms/step - loss: 0.6883 - acc: 0.5392 - val_loss: 0.6818 - val_acc: 0.5583\n",
      "Epoch 6/20\n",
      "651/651 [==============================] - 3s 4ms/step - loss: 0.6697 - acc: 0.5991 - val_loss: 0.6673 - val_acc: 0.5706\n",
      "Epoch 7/20\n",
      "651/651 [==============================] - 3s 4ms/step - loss: 0.5751 - acc: 0.7696 - val_loss: 0.6358 - val_acc: 0.6442\n",
      "Epoch 8/20\n",
      "651/651 [==============================] - 3s 4ms/step - loss: 0.3606 - acc: 0.8879 - val_loss: 0.6842 - val_acc: 0.6135\n",
      "Epoch 9/20\n",
      "651/651 [==============================] - 3s 4ms/step - loss: 0.1426 - acc: 0.9631 - val_loss: 0.8559 - val_acc: 0.6871\n",
      "Epoch 10/20\n",
      "651/651 [==============================] - 3s 4ms/step - loss: 0.0631 - acc: 0.9862 - val_loss: 0.9323 - val_acc: 0.6319\n",
      "Epoch 11/20\n",
      "651/651 [==============================] - 3s 4ms/step - loss: 0.0394 - acc: 0.9846 - val_loss: 0.9935 - val_acc: 0.6319\n",
      "Epoch 12/20\n",
      "651/651 [==============================] - 3s 4ms/step - loss: 0.0318 - acc: 0.9877 - val_loss: 1.0248 - val_acc: 0.6503\n",
      "Epoch 13/20\n",
      "651/651 [==============================] - 3s 4ms/step - loss: 0.0397 - acc: 0.9892 - val_loss: 1.0778 - val_acc: 0.6687\n",
      "Epoch 14/20\n",
      "651/651 [==============================] - 3s 4ms/step - loss: 0.0415 - acc: 0.9892 - val_loss: 1.0744 - val_acc: 0.6564\n",
      "Epoch 15/20\n",
      "651/651 [==============================] - 3s 4ms/step - loss: 0.0372 - acc: 0.9862 - val_loss: 1.0203 - val_acc: 0.6503\n",
      "Epoch 16/20\n",
      "651/651 [==============================] - 3s 4ms/step - loss: 0.0571 - acc: 0.9831 - val_loss: 1.0296 - val_acc: 0.6687\n",
      "Epoch 17/20\n",
      "651/651 [==============================] - 3s 4ms/step - loss: 0.0350 - acc: 0.9892 - val_loss: 1.0369 - val_acc: 0.6503\n",
      "Epoch 18/20\n",
      "651/651 [==============================] - 3s 4ms/step - loss: 0.0393 - acc: 0.9892 - val_loss: 1.0272 - val_acc: 0.6626\n",
      "Epoch 19/20\n",
      "651/651 [==============================] - 3s 4ms/step - loss: 0.0374 - acc: 0.9846 - val_loss: 1.0217 - val_acc: 0.6626\n",
      "Epoch 20/20\n",
      "651/651 [==============================] - 3s 4ms/step - loss: 0.0356 - acc: 0.9831 - val_loss: 1.0820 - val_acc: 0.6564\n",
      "             precision    recall  f1-score   support\n",
      "\n",
      "          0       0.65      0.78      0.71        88\n",
      "          1       0.67      0.51      0.58        75\n",
      "\n",
      "avg / total       0.66      0.66      0.65       163\n",
      "\n"
     ]
    }
   ],
   "source": [
    "print('Build model...')\n",
    "model = Sequential()\n",
    "\n",
    "# we start off with an efficient embedding layer which maps\n",
    "# our vocab indices into embedding_dims dimensions\n",
    "\n",
    "\n",
    "model.add(Embedding(max_features, 128))\n",
    "model.add(Dropout(0.5))\n",
    "\n",
    "# we add a Convolution1D, which will learn filters\n",
    "# word group filters of size filter_length:\n",
    "model.add(Conv1D(filters,\n",
    "                 kernel_size,\n",
    "                 padding='valid',\n",
    "                 activation='relu',\n",
    "                 strides=1))\n",
    "# we use max pooling:\n",
    "model.add(GlobalMaxPooling1D())\n",
    "\n",
    "\n",
    "\n",
    "# We add a vanilla hidden layer:\n",
    "model.add(Dense(hidden_dims))\n",
    "model.add(Dropout(0.5))\n",
    "model.add(Activation('relu'))\n",
    "\n",
    "# We project onto a single unit output layer, and squash it with a sigmoid:\n",
    "model.add(Dense(1))\n",
    "model.add(Activation('sigmoid'))\n",
    "\n",
    "model.compile(loss='binary_crossentropy',\n",
    "              optimizer='adam',\n",
    "              metrics=['accuracy'])\n",
    "model.fit(x_train, y_train,\n",
    "          batch_size=batch_size,\n",
    "          epochs=20,\n",
    "validation_data=(x_test, y_test))\n",
    "\n",
    "y_pred = model.predict(x_test)\n",
    "y_pred = [round(value) for value in y_pred]\n",
    "print(classification_report(y_test, y_pred))"
   ]
  },
  {
   "cell_type": "code",
   "execution_count": 9,
   "metadata": {},
   "outputs": [],
   "source": [
    "#greedy\n",
    "model.save('keras_combinatorics_classifier.h5')"
   ]
  },
  {
   "cell_type": "code",
   "execution_count": null,
   "metadata": {},
   "outputs": [],
   "source": []
  },
  {
   "cell_type": "code",
   "execution_count": null,
   "metadata": {},
   "outputs": [],
   "source": []
  },
  {
   "cell_type": "code",
   "execution_count": null,
   "metadata": {},
   "outputs": [],
   "source": []
  }
 ],
 "metadata": {
  "kernelspec": {
   "display_name": "Python 2",
   "language": "python",
   "name": "python2"
  },
  "language_info": {
   "codemirror_mode": {
    "name": "ipython",
    "version": 2
   },
   "file_extension": ".py",
   "mimetype": "text/x-python",
   "name": "python",
   "nbconvert_exporter": "python",
   "pygments_lexer": "ipython2",
   "version": "2.7.14"
  }
 },
 "nbformat": 4,
 "nbformat_minor": 2
}
