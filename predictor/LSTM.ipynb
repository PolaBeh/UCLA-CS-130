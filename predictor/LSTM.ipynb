{
 "cells": [
  {
   "cell_type": "code",
   "execution_count": 1,
   "metadata": {},
   "outputs": [],
   "source": [
    "import sys\n",
    "import pandas as pd\n",
    "import numpy as np\n",
    "import re\n",
    "from sklearn import linear_model\n",
    "from sklearn.feature_extraction.text import TfidfTransformer\n",
    "from sklearn.feature_extraction.text import CountVectorizer\n",
    "from sklearn.feature_extraction.text import TfidfVectorizer\n",
    "from sklearn.model_selection import cross_val_score\n",
    "from sklearn.metrics import classification_report\n",
    "from sklearn.model_selection import train_test_split\n",
    "\n",
    "from sklearn.svm import SVC\n",
    "from sklearn.svm import LinearSVC\n",
    "from sklearn import svm\n",
    "\n",
    "from sklearn.neural_network import MLPClassifier\n",
    "from sklearn.ensemble import RandomForestClassifier\n",
    "from sklearn.ensemble import AdaBoostClassifier\n",
    "\n",
    "\n",
    "\n",
    "from sklearn.pipeline import Pipeline\n",
    "from sklearn.model_selection import GridSearchCV\n",
    "\n",
    "from sklearn.naive_bayes import GaussianNB\n",
    "\n",
    "import nltk\n",
    "from nltk import word_tokenize          \n",
    "from nltk.stem.porter import PorterStemmer\n",
    "\n",
    "from sklearn.model_selection import GridSearchCV\n",
    "\n"
   ]
  },
  {
   "cell_type": "code",
   "execution_count": 2,
   "metadata": {},
   "outputs": [],
   "source": [
    "t = pd.read_csv(\"./reports/data.csv\")\n",
    "t = t.dropna()"
   ]
  },
  {
   "cell_type": "code",
   "execution_count": 3,
   "metadata": {},
   "outputs": [],
   "source": [
    "__type = \"math\"#sys.argv[1]\n",
    "t[__type] =  t[\"labels\"].str.contains(__type)\n",
    "t[__type] = pd.to_numeric(t[__type], downcast=\"signed\")"
   ]
  },
  {
   "cell_type": "code",
   "execution_count": 4,
   "metadata": {},
   "outputs": [],
   "source": [
    "feature = \"problem-statement\"\n",
    "\n",
    "l =t['ps']= t['problem-statement'].tolist()\n",
    "l2 = t['os']= t['output-spec'].tolist()\n",
    "res1 = []\n",
    "res2 = []\n",
    "regex = re.compile(\"^a-zA-Z0-9\\ '\" )\n",
    "def clean_s(input_str):\n",
    "    return regex.sub(' ', input_str)\n",
    "\n",
    "for i in range(len(l)):\n",
    "    try:\n",
    "        res1.append(clean_s(l[i]))\n",
    "    except:\n",
    "        res1.append(\"\")\n",
    "for i in range(len(l2)):\n",
    "    try:\n",
    "        res2.append(clean_s(l2[i]))\n",
    "    except:\n",
    "        res2.append(\"\")"
   ]
  },
  {
   "cell_type": "code",
   "execution_count": 5,
   "metadata": {},
   "outputs": [],
   "source": [
    "\n",
    "output = t[[__type,'ps','os' ]]\n",
    "output = output.dropna()\n",
    "\n",
    "output[__type] = output[__type].astype(int)\n",
    "\n",
    "a = output.loc[output[__type] == 1.0]\n",
    "b = output.loc[output[__type] == 0.0]\n",
    "b = b.sample(n=len(a), random_state = 42)"
   ]
  },
  {
   "cell_type": "code",
   "execution_count": 6,
   "metadata": {},
   "outputs": [],
   "source": [
    "output = a.append(b)"
   ]
  },
  {
   "cell_type": "code",
   "execution_count": 7,
   "metadata": {},
   "outputs": [
    {
     "name": "stderr",
     "output_type": "stream",
     "text": [
      "/home/nikepupu/.local/lib/python2.7/site-packages/h5py/__init__.py:36: FutureWarning: Conversion of the second argument of issubdtype from `float` to `np.floating` is deprecated. In future, it will be treated as `np.float64 == np.dtype(float).type`.\n",
      "  from ._conv import register_converters as _register_converters\n",
      "Using TensorFlow backend.\n"
     ]
    }
   ],
   "source": [
    "from __future__ import print_function\n",
    "from keras.preprocessing import sequence\n",
    "from keras.models import Sequential\n",
    "from keras.layers import Dense, Dropout, Activation\n",
    "from keras.layers import Embedding\n",
    "from keras.layers import Conv1D, GlobalMaxPooling1D\n",
    "from keras.layers import LSTM\n",
    "from keras.preprocessing.text import text_to_word_sequence\n",
    "from keras.preprocessing.text import hashing_trick\n",
    "\n",
    "from keras.preprocessing.text import Tokenizer\n",
    "from keras.preprocessing import sequence\n",
    "from keras.models import Sequential\n",
    "from keras.layers import Dense, Dropout, Activation\n",
    "from keras.layers import Embedding\n",
    "from keras.layers import Conv1D, GlobalMaxPooling1D, MaxPooling1D\n",
    "from keras.optimizers import Adam\n",
    "\n",
    "max_features = 20000\n",
    "maxlen = 400\n",
    "batch_size = 32\n",
    "embedding_dims = 500\n",
    "filters = 250\n",
    "kernel_size = 3\n",
    "hidden_dims = 2500\n",
    "epochs = 2\n",
    "\n",
    "\n",
    "temp1 =  [hashing_trick(a, max_features) for a in output['ps'].tolist()]\n",
    "temp2 =  [hashing_trick(a, max_features) for a in output['os'].tolist()]\n",
    "pad1= sequence.pad_sequences(temp1);\n",
    "pad2= sequence.pad_sequences(temp2);\n",
    "temp = np.concatenate((sequence.pad_sequences(temp1), sequence.pad_sequences(temp2)), axis = 1) #np.concatenate((a, b.T), axis=1)\n",
    "x_train, x_test, y_train, y_test = train_test_split(temp,output[__type], test_size=0.2,random_state=42)\n",
    "\n"
   ]
  },
  {
   "cell_type": "code",
   "execution_count": null,
   "metadata": {},
   "outputs": [],
   "source": []
  },
  {
   "cell_type": "code",
   "execution_count": 8,
   "metadata": {},
   "outputs": [
    {
     "name": "stdout",
     "output_type": "stream",
     "text": [
      "Train...\n",
      "Train on 1241 samples, validate on 311 samples\n",
      "Epoch 1/10\n",
      "1241/1241 [==============================] - 65s 52ms/step - loss: 431.3716 - acc: 0.5028 - val_loss: 0.7054 - val_acc: 0.4984\n",
      "Epoch 2/10\n",
      "1241/1241 [==============================] - 63s 51ms/step - loss: 412.3326 - acc: 0.5326 - val_loss: 0.6975 - val_acc: 0.5241\n",
      "Epoch 3/10\n",
      "1241/1241 [==============================] - 62s 50ms/step - loss: 378.9927 - acc: 0.6164 - val_loss: 0.6646 - val_acc: 0.6077\n",
      "Epoch 4/10\n",
      "1241/1241 [==============================] - 62s 50ms/step - loss: 339.2605 - acc: 0.7059 - val_loss: 0.6597 - val_acc: 0.6238\n",
      "Epoch 5/10\n",
      "1241/1241 [==============================] - 63s 51ms/step - loss: 285.1191 - acc: 0.7849 - val_loss: 0.7087 - val_acc: 0.5981\n",
      "Epoch 6/10\n",
      "1241/1241 [==============================] - 64s 52ms/step - loss: 245.2765 - acc: 0.8171 - val_loss: 0.7069 - val_acc: 0.6077\n",
      "Epoch 7/10\n",
      "1241/1241 [==============================] - 63s 51ms/step - loss: 195.1251 - acc: 0.8662 - val_loss: 0.8201 - val_acc: 0.5981\n",
      "Epoch 8/10\n",
      "1241/1241 [==============================] - 62s 50ms/step - loss: 183.6841 - acc: 0.8759 - val_loss: 0.7777 - val_acc: 0.6013\n",
      "Epoch 9/10\n",
      "1241/1241 [==============================] - 62s 50ms/step - loss: 161.4364 - acc: 0.8840 - val_loss: 0.8389 - val_acc: 0.6077\n",
      "Epoch 10/10\n",
      "1241/1241 [==============================] - 62s 50ms/step - loss: 149.5240 - acc: 0.8985 - val_loss: 0.8805 - val_acc: 0.6463\n",
      "311/311 [==============================] - 4s 12ms/step\n",
      "Test score: 0.8804972294442523\n",
      "Accuracy: 0.6463022504205489\n",
      "             precision    recall  f1-score   support\n",
      "\n",
      "          0       0.67      0.57      0.62       155\n",
      "          1       0.63      0.72      0.67       156\n",
      "\n",
      "avg / total       0.65      0.65      0.64       311\n",
      "\n"
     ]
    }
   ],
   "source": [
    "model = Sequential()\n",
    "model.add(Embedding(max_features, 128))\n",
    "model.add(LSTM(128, dropout=0.5, recurrent_dropout=0.5))\n",
    "model.add(Dense(1, activation='sigmoid'))\n",
    "\n",
    "# try using different optimizers and different optimizer configs\n",
    "model.compile(loss='binary_crossentropy',\n",
    "              optimizer='adam',\n",
    "              metrics=['accuracy'])\n",
    "\n",
    "print('Train...')\n",
    "class_weight = {0 : len(b),\n",
    "    1: len(a)}\n",
    "model.fit(x_train, y_train,\n",
    "          batch_size=batch_size,\n",
    "          epochs=10,\n",
    "          validation_data=(x_test, y_test), class_weight=class_weight)\n",
    "\n",
    "score, acc = model.evaluate(x_test, y_test,\n",
    "                            batch_size=batch_size)\n",
    "print('Test score:', score)\n",
    "print('Accuracy:', acc)\n",
    "y_pred = model.predict(x_test)\n",
    "y_pred = [round(value) for value in y_pred]\n",
    "print(classification_report(y_test, y_pred))"
   ]
  },
  {
   "cell_type": "code",
   "execution_count": null,
   "metadata": {},
   "outputs": [],
   "source": []
  }
 ],
 "metadata": {
  "kernelspec": {
   "display_name": "Python 2",
   "language": "python",
   "name": "python2"
  },
  "language_info": {
   "codemirror_mode": {
    "name": "ipython",
    "version": 2
   },
   "file_extension": ".py",
   "mimetype": "text/x-python",
   "name": "python",
   "nbconvert_exporter": "python",
   "pygments_lexer": "ipython2",
   "version": "2.7.14"
  }
 },
 "nbformat": 4,
 "nbformat_minor": 2
}
