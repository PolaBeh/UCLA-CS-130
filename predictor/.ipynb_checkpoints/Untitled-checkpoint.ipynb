{
 "cells": [
  {
   "cell_type": "code",
   "execution_count": 1,
   "metadata": {},
   "outputs": [],
   "source": [
    "import sys\n",
    "import pandas as pd\n",
    "import numpy as np\n",
    "import re\n",
    "from sklearn import linear_model\n",
    "from sklearn.feature_extraction.text import TfidfTransformer\n",
    "from sklearn.feature_extraction.text import CountVectorizer\n",
    "from sklearn.feature_extraction.text import TfidfVectorizer\n",
    "from sklearn.model_selection import cross_val_score\n",
    "from sklearn.metrics import classification_report\n",
    "from sklearn.model_selection import train_test_split\n",
    "\n",
    "from sklearn.svm import SVC\n",
    "from sklearn.svm import LinearSVC\n",
    "from sklearn import svm\n",
    "\n",
    "from sklearn.neural_network import MLPClassifier\n",
    "from sklearn.ensemble import RandomForestClassifier\n",
    "from sklearn.ensemble import AdaBoostClassifier\n",
    "\n",
    "\n",
    "\n",
    "from sklearn.pipeline import Pipeline\n",
    "from sklearn.model_selection import GridSearchCV\n",
    "\n",
    "from sklearn.naive_bayes import GaussianNB\n",
    "\n",
    "import nltk\n",
    "from nltk import word_tokenize          \n",
    "from nltk.stem.porter import PorterStemmer\n",
    "\n",
    "from sklearn.model_selection import GridSearchCV\n",
    "\n"
   ]
  },
  {
   "cell_type": "code",
   "execution_count": 2,
   "metadata": {},
   "outputs": [],
   "source": [
    "t = pd.read_csv(\"./reports/data.csv\")\n",
    "t = t.dropna()"
   ]
  },
  {
   "cell_type": "code",
   "execution_count": 3,
   "metadata": {},
   "outputs": [],
   "source": [
    "__type = \"math\"#sys.argv[1]\n",
    "t[__type] =  t[\"labels\"].str.contains(__type)\n",
    "t[__type] = pd.to_numeric(t[__type], downcast=\"signed\")"
   ]
  },
  {
   "cell_type": "code",
   "execution_count": 4,
   "metadata": {},
   "outputs": [],
   "source": [
    "vectorizer = TfidfVectorizer( stop_words=\"english\",analyzer = 'word')\n",
    "feature = \"problem-statement\"\n",
    "\n",
    "l = t['ps'] = (t['problem-statement'].astype(str) + t['output-spec']) .tolist()\n",
    "res = []\n",
    "regex = re.compile(\"^a-zA-Z0-9\\ '\" )\n",
    "def clean_s(input_str):\n",
    "    return regex.sub(' ', input_str)\n",
    "\n",
    "for i in range(len(l)):\n",
    "    try:\n",
    "        res.append(clean_s(l[i]))\n",
    "    except:\n",
    "        res.append(\"\")\n",
    "\n",
    "X = vectorizer.fit_transform(res)\n",
    "t['tf-idf'] = list(X.toarray())\n"
   ]
  },
  {
   "cell_type": "code",
   "execution_count": 5,
   "metadata": {},
   "outputs": [],
   "source": [
    "\n",
    "output = t[[__type,'tf-idf','ps' ]]\n",
    "output = output.dropna()\n",
    "\n",
    "output[__type] = output[__type].astype(int)\n",
    "\n",
    "a = output.loc[output[__type] == 1.0]\n",
    "b = output.loc[output[__type] == 0.0]\n",
    "b = b.sample(n=len(a), random_state = 42)"
   ]
  },
  {
   "cell_type": "code",
   "execution_count": 6,
   "metadata": {},
   "outputs": [],
   "source": [
    "output = a.append(b)\n"
   ]
  },
  {
   "cell_type": "code",
   "execution_count": 7,
   "metadata": {},
   "outputs": [],
   "source": [
    "x_train, x_test, y_train, y_test = train_test_split(np.array(output['tf-idf'].tolist() ),output[__type], test_size=0.2,random_state=42)"
   ]
  },
  {
   "cell_type": "code",
   "execution_count": 12,
   "metadata": {},
   "outputs": [
    {
     "name": "stdout",
     "output_type": "stream",
     "text": [
      "Fitting 3 folds for each of 8 candidates, totalling 24 fits\n",
      "[CV] C=0.1, max_iter=100 .............................................\n",
      "[CV] C=0.1, max_iter=100 .............................................\n",
      "[CV] ......... C=0.1, max_iter=100, score=0.68115942029, total=   0.4s\n",
      "[CV] C=0.1, max_iter=100 .............................................\n"
     ]
    },
    {
     "name": "stderr",
     "output_type": "stream",
     "text": [
      "[Parallel(n_jobs=2)]: Done   1 tasks      | elapsed:    0.7s\n"
     ]
    },
    {
     "name": "stdout",
     "output_type": "stream",
     "text": [
      "[CV] ........ C=0.1, max_iter=100, score=0.630434782609, total=   0.4s\n",
      "[CV] C=0.1, max_iter=1000 ............................................\n",
      "[CV] ........ C=0.1, max_iter=100, score=0.692493946731, total=   0.4s\n",
      "[CV] C=0.1, max_iter=1000 ............................................\n",
      "[CV] ........ C=0.1, max_iter=1000, score=0.68115942029, total=   0.4s\n",
      "[CV] C=0.1, max_iter=1000 ............................................\n"
     ]
    },
    {
     "name": "stderr",
     "output_type": "stream",
     "text": [
      "[Parallel(n_jobs=2)]: Done   4 tasks      | elapsed:    1.6s\n"
     ]
    },
    {
     "name": "stdout",
     "output_type": "stream",
     "text": [
      "[CV] ....... C=0.1, max_iter=1000, score=0.630434782609, total=   0.4s\n",
      "[CV] C=1, max_iter=100 ...............................................\n",
      "[CV] ....... C=0.1, max_iter=1000, score=0.692493946731, total=   0.4s\n",
      "[CV] C=1, max_iter=100 ...............................................\n",
      "[CV] .......... C=1, max_iter=100, score=0.693236714976, total=   0.4s\n",
      "[CV] C=1, max_iter=100 ...............................................\n",
      "[CV] .......... C=1, max_iter=100, score=0.635265700483, total=   0.4s\n",
      "[CV] C=1, max_iter=1000 ..............................................\n",
      "[CV] .......... C=1, max_iter=100, score=0.702179176755, total=   0.4s\n",
      "[CV] C=1, max_iter=1000 ..............................................\n"
     ]
    },
    {
     "name": "stderr",
     "output_type": "stream",
     "text": [
      "[Parallel(n_jobs=2)]: Done   9 tasks      | elapsed:    3.1s\n"
     ]
    },
    {
     "name": "stdout",
     "output_type": "stream",
     "text": [
      "[CV] ......... C=1, max_iter=1000, score=0.693236714976, total=   0.4s\n",
      "[CV] C=1, max_iter=1000 ..............................................\n",
      "[CV] ......... C=1, max_iter=1000, score=0.635265700483, total=   0.4s\n",
      "[CV] C=10, max_iter=100 ..............................................\n",
      "[CV] ......... C=1, max_iter=1000, score=0.702179176755, total=   0.5s\n",
      "[CV] C=10, max_iter=100 ..............................................\n",
      "[CV] ......... C=10, max_iter=100, score=0.693236714976, total=   0.5s\n",
      "[CV] C=10, max_iter=100 ..............................................\n",
      "[CV] .......... C=10, max_iter=100, score=0.62077294686, total=   0.5s\n",
      "[CV] C=10, max_iter=1000 .............................................\n"
     ]
    },
    {
     "name": "stderr",
     "output_type": "stream",
     "text": [
      "[Parallel(n_jobs=2)]: Done  14 tasks      | elapsed:    4.7s\n"
     ]
    },
    {
     "name": "stdout",
     "output_type": "stream",
     "text": [
      "[CV] ......... C=10, max_iter=100, score=0.697336561743, total=   0.5s\n",
      "[CV] C=10, max_iter=1000 .............................................\n",
      "[CV] ........ C=10, max_iter=1000, score=0.693236714976, total=   0.5s\n",
      "[CV] C=10, max_iter=1000 .............................................\n",
      "[CV] ......... C=10, max_iter=1000, score=0.62077294686, total=   0.5s\n",
      "[CV] C=100, max_iter=100 .............................................\n",
      "[CV] ........ C=10, max_iter=1000, score=0.697336561743, total=   0.5s\n",
      "[CV] C=100, max_iter=100 .............................................\n",
      "[CV] ........ C=100, max_iter=100, score=0.695652173913, total=   0.5s\n",
      "[CV] C=100, max_iter=100 .............................................\n",
      "[CV] ........ C=100, max_iter=100, score=0.596618357488, total=   0.5s\n",
      "[CV] C=100, max_iter=1000 ............................................\n",
      "[CV] ........ C=100, max_iter=100, score=0.665859564165, total=   0.5s\n",
      "[CV] C=100, max_iter=1000 ............................................\n"
     ]
    },
    {
     "name": "stderr",
     "output_type": "stream",
     "text": [
      "[Parallel(n_jobs=2)]: Done  21 tasks      | elapsed:    6.8s\n"
     ]
    },
    {
     "name": "stdout",
     "output_type": "stream",
     "text": [
      "[CV] ....... C=100, max_iter=1000, score=0.695652173913, total=   0.5s\n",
      "[CV] C=100, max_iter=1000 ............................................\n",
      "[CV] ....... C=100, max_iter=1000, score=0.596618357488, total=   0.5s\n",
      "[CV] ....... C=100, max_iter=1000, score=0.665859564165, total=   0.4s\n",
      "             precision    recall  f1-score   support\n",
      "\n",
      "          0       0.66      0.70      0.68       155\n",
      "          1       0.68      0.65      0.66       156\n",
      "\n",
      "avg / total       0.67      0.67      0.67       311\n",
      "\n"
     ]
    },
    {
     "name": "stderr",
     "output_type": "stream",
     "text": [
      "[Parallel(n_jobs=2)]: Done  24 out of  24 | elapsed:    7.6s remaining:    0.0s\n",
      "[Parallel(n_jobs=2)]: Done  24 out of  24 | elapsed:    7.6s finished\n"
     ]
    }
   ],
   "source": [
    "#model = linear_model.RidgeCV(alphas = [0.1, 1.0, 10])\n",
    "#parameters = {}\n",
    "#model = linear_model.Lasso(alpha=0.0001)\n",
    "#model = linear_model.SGDClassifier(loss = 'hinge', penalty='l2')\n",
    "#parameters = {'max_iter': [100,1000]}\n",
    "#model = GaussianNB()\n",
    "\n",
    "### -->logistic regression\n",
    "#model = linear_model.LogisticRegression()\n",
    "#parameters = {'C':[0.1, 1, 10,100], 'max_iter': [100,1000]}\n",
    "\n",
    "### -> logistic regression\n",
    "#model = LinearSVC()\n",
    "#model = MLPClassifier(solver='lbfgs',  hidden_layer_sizes= (100,100,100), random_state=1)\n",
    "#parameters={}\n",
    "#parameters = {'C':[ 0.1, 1, 10,100]}\n",
    "### --> randomforest\n",
    "#model = RandomForestClassifier(class_weight = 'balanced')\n",
    "#parameters={}\n",
    "### --> random forest\n",
    "\n",
    "\n",
    "#model = AdaBoostClassifier()\n",
    "#parameters= {'n_estimators': (10,100)}\n",
    "#### ---> SVC\n",
    "#model = svm.SVC(kernel='linear')\n",
    "#parameters = {'C':[1, 10]}\n",
    "### ---> SVC \n",
    "clf = GridSearchCV(model, parameters, n_jobs=2,verbose = 10)\n",
    "clf.fit(x_train, y_train)\n",
    "y_pred = clf.predict(x_test)\n",
    "print(classification_report(y_test, y_pred))"
   ]
  },
  {
   "cell_type": "code",
   "execution_count": 9,
   "metadata": {},
   "outputs": [],
   "source": [
    "y_pred = clf.predict(x_test)"
   ]
  },
  {
   "cell_type": "code",
   "execution_count": 10,
   "metadata": {},
   "outputs": [],
   "source": [
    "import pickle"
   ]
  },
  {
   "cell_type": "code",
   "execution_count": 13,
   "metadata": {},
   "outputs": [],
   "source": [
    "f = open(\"sklearn_math_classifier.txt\", \"w\")\n",
    "pickle.dump(clf, f)"
   ]
  },
  {
   "cell_type": "code",
   "execution_count": null,
   "metadata": {},
   "outputs": [],
   "source": []
  }
 ],
 "metadata": {
  "kernelspec": {
   "display_name": "Python 2",
   "language": "python",
   "name": "python2"
  },
  "language_info": {
   "codemirror_mode": {
    "name": "ipython",
    "version": 2
   },
   "file_extension": ".py",
   "mimetype": "text/x-python",
   "name": "python",
   "nbconvert_exporter": "python",
   "pygments_lexer": "ipython2",
   "version": "2.7.14"
  }
 },
 "nbformat": 4,
 "nbformat_minor": 2
}
